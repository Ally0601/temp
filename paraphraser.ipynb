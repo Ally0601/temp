{
 "cells": [
  {
   "cell_type": "code",
   "execution_count": 1,
   "metadata": {},
   "outputs": [
    {
     "name": "stdout",
     "output_type": "stream",
     "text": [
      "Collecting git+https://github.com/PrithivirajDamodaran/Parrot_Paraphraser.git\n",
      "  Cloning https://github.com/PrithivirajDamodaran/Parrot_Paraphraser.git to c:\\users\\anshika\\appdata\\local\\temp\\pip-req-build-85msuypi\n",
      "Requirement already satisfied: transformers in d:\\anaconda\\lib\\site-packages (from parrot==1.0) (4.10.3)\n",
      "Requirement already satisfied: sentencepiece in d:\\anaconda\\lib\\site-packages (from parrot==1.0) (0.1.96)\n",
      "Collecting python-Levenshtein\n",
      "  Using cached python-Levenshtein-0.12.2.tar.gz (50 kB)\n",
      "Processing c:\\users\\anshika\\appdata\\local\\pip\\cache\\wheels\\8c\\b7\\50\\451c9a52a337aac5521dbc10544a69e1447d28012feba30742\\sentence_transformers-2.0.0-py3-none-any.whl\n",
      "Collecting fuzzywuzzy\n",
      "  Using cached fuzzywuzzy-0.18.0-py2.py3-none-any.whl (18 kB)\n",
      "Requirement already satisfied: tokenizers<0.11,>=0.10.1 in d:\\anaconda\\lib\\site-packages (from transformers->parrot==1.0) (0.10.3)\n",
      "Requirement already satisfied: numpy>=1.17 in d:\\anaconda\\lib\\site-packages (from transformers->parrot==1.0) (1.18.5)\n",
      "Requirement already satisfied: huggingface-hub>=0.0.12 in d:\\anaconda\\lib\\site-packages (from transformers->parrot==1.0) (0.0.17)\n",
      "Requirement already satisfied: requests in c:\\users\\anshika\\appdata\\roaming\\python\\python38\\site-packages (from transformers->parrot==1.0) (2.25.0)\n",
      "Requirement already satisfied: pyyaml>=5.1 in d:\\anaconda\\lib\\site-packages (from transformers->parrot==1.0) (5.3.1)\n",
      "Requirement already satisfied: sacremoses in d:\\anaconda\\lib\\site-packages (from transformers->parrot==1.0) (0.0.45)\n",
      "Requirement already satisfied: filelock in d:\\anaconda\\lib\\site-packages (from transformers->parrot==1.0) (3.0.12)\n",
      "Requirement already satisfied: tqdm>=4.27 in d:\\anaconda\\lib\\site-packages (from transformers->parrot==1.0) (4.50.2)\n",
      "Requirement already satisfied: packaging in c:\\users\\anshika\\appdata\\roaming\\python\\python38\\site-packages (from transformers->parrot==1.0) (20.7)\n",
      "Requirement already satisfied: regex!=2019.12.17 in d:\\anaconda\\lib\\site-packages (from transformers->parrot==1.0) (2020.9.27)\n",
      "Requirement already satisfied: setuptools in d:\\anaconda\\lib\\site-packages (from python-Levenshtein->parrot==1.0) (50.3.1.post20201107)\n",
      "Requirement already satisfied: scipy in d:\\anaconda\\lib\\site-packages (from sentence-transformers->parrot==1.0) (1.5.2)\n",
      "Requirement already satisfied: nltk in d:\\anaconda\\lib\\site-packages (from sentence-transformers->parrot==1.0) (3.5)\n",
      "Requirement already satisfied: torchvision in c:\\users\\anshika\\appdata\\roaming\\python\\python38\\site-packages (from sentence-transformers->parrot==1.0) (0.6.0)\n",
      "Note: you may need to restart the kernel to use updated packages.Collecting torch>=1.6.0\n",
      "\n"
     ]
    },
    {
     "name": "stderr",
     "output_type": "stream",
     "text": [
      "  ERROR: Command errored out with exit status 1:\n",
      "   command: 'D:\\Anaconda\\python.exe' -u -c 'import sys, setuptools, tokenize; sys.argv[0] = '\"'\"'C:\\\\Users\\\\Anshika\\\\AppData\\\\Local\\\\Temp\\\\pip-install-r9y_sh4o\\\\python-levenshtein\\\\setup.py'\"'\"'; __file__='\"'\"'C:\\\\Users\\\\Anshika\\\\AppData\\\\Local\\\\Temp\\\\pip-install-r9y_sh4o\\\\python-levenshtein\\\\setup.py'\"'\"';f=getattr(tokenize, '\"'\"'open'\"'\"', open)(__file__);code=f.read().replace('\"'\"'\\r\\n'\"'\"', '\"'\"'\\n'\"'\"');f.close();exec(compile(code, __file__, '\"'\"'exec'\"'\"'))' bdist_wheel -d 'C:\\Users\\Anshika\\AppData\\Local\\Temp\\pip-wheel-eo7kxnu7'\n",
      "       cwd: C:\\Users\\Anshika\\AppData\\Local\\Temp\\pip-install-r9y_sh4o\\python-levenshtein\\\n",
      "  Complete output (27 lines):\n",
      "  running bdist_wheel\n",
      "  running build\n",
      "  running build_py\n",
      "  creating build\n",
      "  creating build\\lib.win-amd64-3.8\n",
      "  creating build\\lib.win-amd64-3.8\\Levenshtein\n",
      "  copying Levenshtein\\StringMatcher.py -> build\\lib.win-amd64-3.8\\Levenshtein\n",
      "  copying Levenshtein\\__init__.py -> build\\lib.win-amd64-3.8\\Levenshtein\n",
      "  running egg_info\n",
      "  writing python_Levenshtein.egg-info\\PKG-INFO\n",
      "  writing dependency_links to python_Levenshtein.egg-info\\dependency_links.txt\n",
      "  writing entry points to python_Levenshtein.egg-info\\entry_points.txt\n",
      "  writing namespace_packages to python_Levenshtein.egg-info\\namespace_packages.txt\n",
      "  writing requirements to python_Levenshtein.egg-info\\requires.txt\n",
      "  writing top-level names to python_Levenshtein.egg-info\\top_level.txt\n",
      "  reading manifest file 'python_Levenshtein.egg-info\\SOURCES.txt'\n",
      "  reading manifest template 'MANIFEST.in'\n",
      "  warning: no previously-included files matching '*pyc' found anywhere in distribution\n",
      "  warning: no previously-included files matching '*so' found anywhere in distribution\n",
      "  warning: no previously-included files matching '.project' found anywhere in distribution\n",
      "  warning: no previously-included files matching '.pydevproject' found anywhere in distribution\n",
      "  writing manifest file 'python_Levenshtein.egg-info\\SOURCES.txt'\n",
      "  copying Levenshtein\\_levenshtein.c -> build\\lib.win-amd64-3.8\\Levenshtein\n",
      "  copying Levenshtein\\_levenshtein.h -> build\\lib.win-amd64-3.8\\Levenshtein\n",
      "  running build_ext\n",
      "  building 'Levenshtein._levenshtein' extension\n",
      "  error: Microsoft Visual C++ 14.0 or greater is required. Get it with \"Microsoft C++ Build Tools\": https://visualstudio.microsoft.com/visual-cpp-build-tools/\n",
      "  ----------------------------------------\n",
      "  ERROR: Failed building wheel for python-Levenshtein\n",
      "    ERROR: Command errored out with exit status 1:\n",
      "     command: 'D:\\Anaconda\\python.exe' -u -c 'import sys, setuptools, tokenize; sys.argv[0] = '\"'\"'C:\\\\Users\\\\Anshika\\\\AppData\\\\Local\\\\Temp\\\\pip-install-r9y_sh4o\\\\python-levenshtein\\\\setup.py'\"'\"'; __file__='\"'\"'C:\\\\Users\\\\Anshika\\\\AppData\\\\Local\\\\Temp\\\\pip-install-r9y_sh4o\\\\python-levenshtein\\\\setup.py'\"'\"';f=getattr(tokenize, '\"'\"'open'\"'\"', open)(__file__);code=f.read().replace('\"'\"'\\r\\n'\"'\"', '\"'\"'\\n'\"'\"');f.close();exec(compile(code, __file__, '\"'\"'exec'\"'\"'))' install --record 'C:\\Users\\Anshika\\AppData\\Local\\Temp\\pip-record-fba0bdr2\\install-record.txt' --single-version-externally-managed --compile --install-headers 'D:\\Anaconda\\Include\\python-Levenshtein'\n",
      "         cwd: C:\\Users\\Anshika\\AppData\\Local\\Temp\\pip-install-r9y_sh4o\\python-levenshtein\\\n",
      "    Complete output (27 lines):\n",
      "    running install\n",
      "    running build\n",
      "    running build_py\n",
      "    creating build\n",
      "    creating build\\lib.win-amd64-3.8\n",
      "    creating build\\lib.win-amd64-3.8\\Levenshtein\n",
      "    copying Levenshtein\\StringMatcher.py -> build\\lib.win-amd64-3.8\\Levenshtein\n",
      "    copying Levenshtein\\__init__.py -> build\\lib.win-amd64-3.8\\Levenshtein\n",
      "    running egg_info\n",
      "    writing python_Levenshtein.egg-info\\PKG-INFO\n",
      "    writing dependency_links to python_Levenshtein.egg-info\\dependency_links.txt\n",
      "    writing entry points to python_Levenshtein.egg-info\\entry_points.txt\n",
      "    writing namespace_packages to python_Levenshtein.egg-info\\namespace_packages.txt\n",
      "    writing requirements to python_Levenshtein.egg-info\\requires.txt\n",
      "    writing top-level names to python_Levenshtein.egg-info\\top_level.txt\n",
      "    reading manifest file 'python_Levenshtein.egg-info\\SOURCES.txt'\n",
      "    reading manifest template 'MANIFEST.in'\n",
      "    warning: no previously-included files matching '*pyc' found anywhere in distribution\n",
      "    warning: no previously-included files matching '*so' found anywhere in distribution\n",
      "    warning: no previously-included files matching '.project' found anywhere in distribution\n",
      "    warning: no previously-included files matching '.pydevproject' found anywhere in distribution\n",
      "    writing manifest file 'python_Levenshtein.egg-info\\SOURCES.txt'\n",
      "    copying Levenshtein\\_levenshtein.c -> build\\lib.win-amd64-3.8\\Levenshtein\n",
      "    copying Levenshtein\\_levenshtein.h -> build\\lib.win-amd64-3.8\\Levenshtein\n",
      "    running build_ext\n",
      "    building 'Levenshtein._levenshtein' extension\n",
      "    error: Microsoft Visual C++ 14.0 or greater is required. Get it with \"Microsoft C++ Build Tools\": https://visualstudio.microsoft.com/visual-cpp-build-tools/\n",
      "    ----------------------------------------\n",
      "ERROR: Command errored out with exit status 1: 'D:\\Anaconda\\python.exe' -u -c 'import sys, setuptools, tokenize; sys.argv[0] = '\"'\"'C:\\\\Users\\\\Anshika\\\\AppData\\\\Local\\\\Temp\\\\pip-install-r9y_sh4o\\\\python-levenshtein\\\\setup.py'\"'\"'; __file__='\"'\"'C:\\\\Users\\\\Anshika\\\\AppData\\\\Local\\\\Temp\\\\pip-install-r9y_sh4o\\\\python-levenshtein\\\\setup.py'\"'\"';f=getattr(tokenize, '\"'\"'open'\"'\"', open)(__file__);code=f.read().replace('\"'\"'\\r\\n'\"'\"', '\"'\"'\\n'\"'\"');f.close();exec(compile(code, __file__, '\"'\"'exec'\"'\"'))' install --record 'C:\\Users\\Anshika\\AppData\\Local\\Temp\\pip-record-fba0bdr2\\install-record.txt' --single-version-externally-managed --compile --install-headers 'D:\\Anaconda\\Include\\python-Levenshtein' Check the logs for full command output.\n",
      "WARNING: You are using pip version 20.2.3; however, version 21.2.4 is available.\n",
      "You should consider upgrading via the 'D:\\Anaconda\\python.exe -m pip install --upgrade pip' command.\n"
     ]
    },
    {
     "name": "stdout",
     "output_type": "stream",
     "text": [
      "  Using cached torch-1.9.1-cp38-cp38-win_amd64.whl (222.1 MB)\n",
      "Requirement already satisfied: scikit-learn in d:\\anaconda\\lib\\site-packages (from sentence-transformers->parrot==1.0) (0.23.2)\n",
      "Requirement already satisfied: typing-extensions in c:\\users\\anshika\\appdata\\roaming\\python\\python38\\site-packages (from huggingface-hub>=0.0.12->transformers->parrot==1.0) (3.7.4.3)\n",
      "Requirement already satisfied: certifi>=2017.4.17 in c:\\users\\anshika\\appdata\\roaming\\python\\python38\\site-packages (from requests->transformers->parrot==1.0) (2020.11.8)\n",
      "Requirement already satisfied: chardet<4,>=3.0.2 in c:\\users\\anshika\\appdata\\roaming\\python\\python38\\site-packages (from requests->transformers->parrot==1.0) (3.0.4)\n",
      "Requirement already satisfied: urllib3<1.27,>=1.21.1 in c:\\users\\anshika\\appdata\\roaming\\python\\python38\\site-packages (from requests->transformers->parrot==1.0) (1.26.2)\n",
      "Requirement already satisfied: idna<3,>=2.5 in c:\\users\\anshika\\appdata\\roaming\\python\\python38\\site-packages (from requests->transformers->parrot==1.0) (2.10)\n",
      "Requirement already satisfied: click in d:\\anaconda\\lib\\site-packages (from sacremoses->transformers->parrot==1.0) (7.1.2)\n",
      "Requirement already satisfied: joblib in d:\\anaconda\\lib\\site-packages (from sacremoses->transformers->parrot==1.0) (0.17.0)\n",
      "Requirement already satisfied: six in c:\\users\\anshika\\appdata\\roaming\\python\\python38\\site-packages (from sacremoses->transformers->parrot==1.0) (1.15.0)\n",
      "Requirement already satisfied: pyparsing>=2.0.2 in c:\\users\\anshika\\appdata\\roaming\\python\\python38\\site-packages (from packaging->transformers->parrot==1.0) (2.4.7)\n",
      "Requirement already satisfied: pillow>=4.1.1 in c:\\users\\anshika\\appdata\\roaming\\python\\python38\\site-packages (from torchvision->sentence-transformers->parrot==1.0) (8.0.1)\n",
      "Requirement already satisfied: threadpoolctl>=2.0.0 in d:\\anaconda\\lib\\site-packages (from scikit-learn->sentence-transformers->parrot==1.0) (2.1.0)\n",
      "Building wheels for collected packages: parrot, python-Levenshtein\n",
      "  Building wheel for parrot (setup.py): started\n",
      "  Building wheel for parrot (setup.py): finished with status 'done'\n",
      "  Created wheel for parrot: filename=parrot-1.0-py3-none-any.whl size=8717 sha256=651ef5df8efbe273b575637f4f84597919a5b7a33663730a4060ff80969b1c81\n",
      "  Stored in directory: C:\\Users\\Anshika\\AppData\\Local\\Temp\\pip-ephem-wheel-cache-8us7phhv\\wheels\\2f\\4d\\b1\\05ff6a0b94ee4667ff640602c0a685d4a0bf85e4286ffb44ae\n",
      "  Building wheel for python-Levenshtein (setup.py): started\n",
      "  Building wheel for python-Levenshtein (setup.py): finished with status 'error'\n",
      "  Running setup.py clean for python-Levenshtein\n",
      "Successfully built parrot\n",
      "Failed to build python-Levenshtein\n",
      "Installing collected packages: python-Levenshtein, torch, sentence-transformers, fuzzywuzzy, parrot\n",
      "    Running setup.py install for python-Levenshtein: started\n",
      "    Running setup.py install for python-Levenshtein: finished with status 'error'\n"
     ]
    }
   ],
   "source": [
    "pip install git+https://github.com/PrithivirajDamodaran/Parrot_Paraphraser.git"
   ]
  },
  {
   "cell_type": "code",
   "execution_count": 2,
   "metadata": {},
   "outputs": [
    {
     "ename": "ModuleNotFoundError",
     "evalue": "No module named 'parrot'",
     "output_type": "error",
     "traceback": [
      "\u001b[1;31m---------------------------------------------------------------------------\u001b[0m",
      "\u001b[1;31mModuleNotFoundError\u001b[0m                       Traceback (most recent call last)",
      "\u001b[1;32m<ipython-input-2-25c684fac2a0>\u001b[0m in \u001b[0;36m<module>\u001b[1;34m\u001b[0m\n\u001b[0;32m      1\u001b[0m \u001b[1;31m# import libraries\u001b[0m\u001b[1;33m\u001b[0m\u001b[1;33m\u001b[0m\u001b[1;33m\u001b[0m\u001b[0m\n\u001b[1;32m----> 2\u001b[1;33m \u001b[1;32mfrom\u001b[0m \u001b[0mparrot\u001b[0m \u001b[1;32mimport\u001b[0m \u001b[0mParrot\u001b[0m\u001b[1;33m\u001b[0m\u001b[1;33m\u001b[0m\u001b[0m\n\u001b[0m\u001b[0;32m      3\u001b[0m \u001b[1;32mimport\u001b[0m \u001b[0mtorch\u001b[0m\u001b[1;33m\u001b[0m\u001b[1;33m\u001b[0m\u001b[0m\n\u001b[0;32m      4\u001b[0m \u001b[1;32mimport\u001b[0m \u001b[0mwarnings\u001b[0m\u001b[1;33m\u001b[0m\u001b[1;33m\u001b[0m\u001b[0m\n\u001b[0;32m      5\u001b[0m \u001b[0mwarnings\u001b[0m\u001b[1;33m.\u001b[0m\u001b[0mfilterwarnings\u001b[0m\u001b[1;33m(\u001b[0m\u001b[1;34m'ignore'\u001b[0m\u001b[1;33m)\u001b[0m\u001b[1;33m\u001b[0m\u001b[1;33m\u001b[0m\u001b[0m\n",
      "\u001b[1;31mModuleNotFoundError\u001b[0m: No module named 'parrot'"
     ]
    }
   ],
   "source": [
    "# import libraries\n",
    "from parrot import Parrot\n",
    "import torch\n",
    "import warnings\n",
    "warnings.filterwarnings('ignore')"
   ]
  },
  {
   "cell_type": "code",
   "execution_count": null,
   "metadata": {},
   "outputs": [],
   "source": [
    "# for reproducibility\n",
    "def random_state(seed):\n",
    "    torch.manual_seed(seed)\n",
    "    if torch.cuda.is_available():\n",
    "        torch.cuda.manual_seed_all(seed)\n",
    "        \n",
    "random_state(1234)"
   ]
  },
  {
   "cell_type": "code",
   "execution_count": null,
   "metadata": {},
   "outputs": [],
   "source": [
    "# init models(make sure you init only once if you integrate this to other code)\n",
    "parrot = Parrot(model_tag=\"prithvida/parrot_paraphraser_on_T5\", use_gpu=False)"
   ]
  }
 ],
 "metadata": {
  "kernelspec": {
   "display_name": "Python 3",
   "language": "python",
   "name": "python3"
  },
  "language_info": {
   "codemirror_mode": {
    "name": "ipython",
    "version": 3
   },
   "file_extension": ".py",
   "mimetype": "text/x-python",
   "name": "python",
   "nbconvert_exporter": "python",
   "pygments_lexer": "ipython3",
   "version": "3.8.5"
  }
 },
 "nbformat": 4,
 "nbformat_minor": 4
}
